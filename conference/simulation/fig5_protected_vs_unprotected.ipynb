{
 "cells": [
  {
   "cell_type": "code",
   "execution_count": 1,
   "metadata": {},
   "outputs": [],
   "source": [
    "import os\n",
    "import sys\n",
    "import numpy as np\n",
    "import pandas as pd\n",
    "import matplotlib.pyplot as plt\n",
    "import networkx as nx\n",
    "from scipy import sparse\n",
    "from scipy.interpolate import interp1d\n",
    "from matplotlib.ticker import PercentFormatter\n",
    "import matplotlib.ticker as mticker\n",
    "import matplotlib.cm as cm\n",
    "from scipy.sparse import csr_matrix\n",
    "\n",
    "\n",
    "cwd = os.getcwd()\n",
    "model_path = os.path.abspath(os.path.join(cwd, os.pardir, 'models'))\n",
    "sys.path.append(model_path)\n",
    "from conference_model import *"
   ]
  },
  {
   "cell_type": "code",
   "execution_count": 2,
   "metadata": {},
   "outputs": [],
   "source": [
    "# Network\n",
    "# Assuming 'SFHH_ConferenceNetwork.dat' is in the same directory and properly formatted\n",
    "df = pd.read_csv('../data/SFHH_ConferenceNetwork.dat', delim_whitespace=True, header=None, names=['Timestamp', 'ID1', 'ID2'])"
   ]
  },
  {
   "cell_type": "code",
   "execution_count": 3,
   "metadata": {},
   "outputs": [],
   "source": [
    "# Parameters\n",
    "s1 = 1/3.4\n",
    "p_sev = 0.45\n",
    "efficacy = 0.7\n",
    "g_mild = 1/2.9\n",
    "g_sev = 1/5.7\n",
    "R0 = 2.8\n",
    "t_interv = 0\n",
    "t_end_conf = 5\n",
    "\n",
    "prop_dict = {\n",
    "    \"x1/day\": {\"Mean\": 0.78, \"SD\": 0.14},\n",
    "    \"x2/day\": {\"Mean\": 0.69, \"SD\": 0.15},\n",
    "    \"x3/day\": {\"Mean\": 0.64, \"SD\": 0.15},\n",
    "    \"x4/day\": {\"Mean\": 0.51, \"SD\": 0.20},\n",
    "}\n",
    "\n",
    "# Simulation setup\n",
    "nr = 1000  # Number of realisations\n",
    "Tmax = 50\n",
    "dt = 0.01"
   ]
  },
  {
   "cell_type": "code",
   "execution_count": 4,
   "metadata": {},
   "outputs": [],
   "source": [
    "# Initialize a dictionary to store results\n",
    "results = {}\n",
    "\n",
    "# Loop through each scenario\n",
    "for scenario, values in prop_dict.items():\n",
    "    prop_mean = values['Mean']\n",
    "    prop_std = values['SD']\n",
    "    \n",
    "    # Run simulation for the treated scenario\n",
    "    IsimMild_treated, IsimSev_treated, IsimTot_treated, cumul_mild_infections_treated, cumul_sev_infections_treated, cumul_infections_treated, cumul_unprotected_exposures, cumul_protected_exposures, props, N = simulate_covid_spread(nr, dt, Tmax, df, s1, p_sev, g_mild, g_sev, efficacy, t_interv, R0, prop_mean, prop_std, t_end_conf=t_end_conf, weighted='weighted', percentile=90)\n",
    "    \n",
    "    total_unprotected_exposures = np.asarray([inner_array[-1] for inner_array in cumul_unprotected_exposures])\n",
    "    mean_unprotected_exposures = np.mean(total_unprotected_exposures)\n",
    "\n",
    "    total_protected_exposures = np.asarray([inner_array[-1] for inner_array in cumul_protected_exposures])\n",
    "    mean_protected_exposures = np.mean(total_protected_exposures)\n",
    "\n",
    "    n_protected = props*N\n",
    "    n_unprotected = (1-props)*N\n",
    "\n",
    "    mean_n_protected = int(np.mean(n_protected))\n",
    "    mean_n_unprotected = int(np.mean(n_unprotected))\n",
    "\n",
    "    # Store results in the dictionary\n",
    "    results[scenario] = {\n",
    "        'Mean total unprotected': mean_n_unprotected,\n",
    "        'Mean total protected': mean_n_protected,\n",
    "        'Mean unprotected exposures': mean_unprotected_exposures,\n",
    "        'Mean protected exposures': mean_protected_exposures\n",
    "    }"
   ]
  },
  {
   "cell_type": "code",
   "execution_count": 7,
   "metadata": {},
   "outputs": [
    {
     "data": {
      "image/png": "[encoded data removed]",
      "text/plain": [
       "<Figure size 500x400 with 1 Axes>"
      ]
     },
     "metadata": {},
     "output_type": "display_data"
    }
   ],
   "source": [
    "# Plotting section\n",
    "plt.rcParams['font.family'] = 'Arial'\n",
    "colors = plt.cm.viridis(np.linspace(0, 1, 4))\n",
    "\n",
    "# Extract data for plotting\n",
    "scenarios = list(results.keys())\n",
    "percent_unprotected = [(results[scenario]['Mean unprotected exposures'] / results[scenario]['Mean total unprotected']) for scenario in scenarios]\n",
    "percent_protected = [(results[scenario]['Mean protected exposures'] / results[scenario]['Mean total protected']) for scenario in scenarios]\n",
    "\n",
    "# Indices for the scenarios\n",
    "ind = np.arange(len(scenarios))\n",
    "width = 0.35  # width of the bars\n",
    "\n",
    "# Plotting\n",
    "fig, ax = plt.subplots(figsize=(5, 4))\n",
    "bars_unprotected = ax.bar(ind - width/2, percent_unprotected, width, label='No nasal spray', color=colors[1])\n",
    "bars_protected = ax.bar(ind + width/2, percent_protected, width, label='Nasal spray', color=colors[2])\n",
    "\n",
    "# Add some text for labels, title and axes ticks\n",
    "ax.set_ylabel('Mean proportion infected (%)', weight='bold', fontsize=10)\n",
    "ax.set_xticks(ind)\n",
    "ax.set_xticklabels(scenarios, fontsize=10)\n",
    "ax.legend(loc='upper left')\n",
    "ax.yaxis.set_major_formatter(PercentFormatter(1, decimals=0))\n",
    "ax.set_ylim(0, 0.8)\n",
    "\n",
    "# Define the directory path and the filename\n",
    "directory = '../figures'\n",
    "filename = 'figure5.svg'\n",
    "\n",
    "# Check if the directory exists\n",
    "if not os.path.exists(directory):\n",
    "    # If the directory does not exist, create it\n",
    "    os.makedirs(directory)\n",
    "\n",
    "# Save the figure\n",
    "plt.savefig(os.path.join(directory, filename), bbox_inches='tight')\n",
    "plt.show()"
   ]
  }
 ],
 "metadata": {
  "kernelspec": {
   "display_name": "conferenceenv",
   "language": "python",
   "name": "python3"
  },
  "language_info": {
   "codemirror_mode": {
    "name": "ipython",
    "version": 3
   },
   "file_extension": ".py",
   "mimetype": "text/x-python",
   "name": "python",
   "nbconvert_exporter": "python",
   "pygments_lexer": "ipython3",
   "version": "3.12.1"
  }
 },
 "nbformat": 4,
 "nbformat_minor": 2
}
