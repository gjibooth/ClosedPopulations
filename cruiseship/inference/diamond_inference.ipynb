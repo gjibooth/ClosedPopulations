{
 "cells": [
  {
   "cell_type": "code",
   "execution_count": null,
   "metadata": {},
   "outputs": [],
   "source": [
    "import os\n",
    "import sys\n",
    "import numpy as np\n",
    "import pints\n",
    "import pints.plot\n",
    "from scipy.integrate import odeint\n",
    "import matplotlib.pyplot as plt\n",
    "import pandas as pd\n",
    "import math\n",
    "import arviz as az\n",
    "import seaborn as sns\n",
    "\n",
    "cwd = os.getcwd()\n",
    "model_path = os.path.abspath(os.path.join(cwd, os.pardir, 'models'))\n",
    "sys.path.append(model_path)\n",
    "from diamond_ODE_model import *"
   ]
  },
  {
   "cell_type": "code",
   "execution_count": null,
   "metadata": {},
   "outputs": [],
   "source": [
    "# Create instance of new model class\n",
    "model = diamondODEModel()"
   ]
  },
  {
   "cell_type": "code",
   "execution_count": null,
   "metadata": {},
   "outputs": [],
   "source": [
    "df = pd.read_csv('../data/data_cases_symp.csv')\n",
    "df = df.drop(['day_no', 'all'], axis=1)\n",
    "\n",
    "# Convert onset_date to datetime for better x-axis formatting\n",
    "df['onset_date'] = pd.to_datetime(df['onset_date'], format='%d-%b')\n",
    "df['onset_date'] = df['onset_date'].dt.strftime('%d-%b')\n",
    "\n",
    "# Plotting\n",
    "plt.figure(figsize=(8, 5))\n",
    "plt.plot(df['onset_date'], df['pass'], label='Passengers', marker='o')\n",
    "plt.plot(df['onset_date'], df['crew'], label='Crew', marker='x')\n",
    "\n",
    "# Formatting the plot\n",
    "plt.xlabel('Date')\n",
    "plt.ylabel('Number of Cases')\n",
    "plt.title('COVID-19 Cases Over Time')\n",
    "plt.xticks(rotation=45)\n",
    "plt.legend()\n",
    "plt.tight_layout()\n",
    "\n",
    "# Display the plot\n",
    "plt.show()"
   ]
  },
  {
   "cell_type": "code",
   "execution_count": null,
   "metadata": {},
   "outputs": [],
   "source": [
    "# problem = pints.MultiOutputProblem(model, )\n",
    "data_time = np.array(df.index)\n",
    "data_cases = df[['pass', 'crew']].values\n",
    "problem = pints.MultiOutputProblem(model, data_time, data_cases)\n",
    "log_likelihood = pints.GaussianLogLikelihood(problem)\n",
    "# [bbarcp, cpp, b1, tpp, tcc, thetaa, thetap, chi]\n",
    "log_prior = pints.UniformLogPrior(\n",
    "    [0, 0.5, 0.8, 10, 15, 0, 0, 0.5, 0, 0],\n",
    "    [6, 2, 1, 20, 25, 1, 1, 1, 5, 5]\n",
    ")\n",
    "log_posterior = pints.LogPosterior(log_likelihood, log_prior)\n",
    "\n",
    "n_chains = 3\n",
    "xs = pints.sample_initial_points(log_posterior, n_chains, parallel=True)"
   ]
  },
  {
   "cell_type": "code",
   "execution_count": null,
   "metadata": {},
   "outputs": [],
   "source": [
    "mcmc = pints.MCMCController(log_posterior, n_chains, xs, method=pints.HaarioBardenetACMC)\n",
    "\n",
    "# Add stopping criterion\n",
    "mcmc.set_max_iterations(100000)\n",
    "\n",
    "# Start adapting after n iterations\n",
    "mcmc.set_initial_phase_iterations(5000)\n",
    "\n",
    "# Disable logging mode\n",
    "mcmc.set_log_to_screen(True)\n",
    "chains = mcmc.run()"
   ]
  },
  {
   "cell_type": "code",
   "execution_count": null,
   "metadata": {},
   "outputs": [],
   "source": [
    "pints.plot.trace(chains)\n",
    "plt.show()"
   ]
  },
  {
   "cell_type": "code",
   "execution_count": null,
   "metadata": {},
   "outputs": [],
   "source": [
    "warmup = 20000\n",
    "trimmed_chains = chains[:,warmup:,:]\n",
    "\n",
    "# Reshape to combine the chains\n",
    "combined_chains = trimmed_chains.reshape(-1, 10)\n",
    "param_names = ['bbarcp', 'cpp', 'b1', 'tpp', 'tcc', 'thetaa', 'thetap', 'chi', 'sigmap', 'sigmac']\n",
    "# Create a DataFrame from the combined_chains array with the parameter names as column headings\n",
    "inferred_df = pd.DataFrame(combined_chains, columns=param_names)\n",
    "\n",
    "# Save the DataFrame to a CSV file\n",
    "inferred_df.to_csv('../data/inferred_parameters.csv', index=False)"
   ]
  },
  {
   "cell_type": "code",
   "execution_count": null,
   "metadata": {},
   "outputs": [],
   "source": [
    "inferred_df = pd.read_csv('../data/inferred_parameters.csv')"
   ]
  },
  {
   "cell_type": "code",
   "execution_count": null,
   "metadata": {},
   "outputs": [],
   "source": [
    "data = combined_chains\n",
    "\n",
    "param_names = [r'$\\bar{\\beta}$', r'$c_{pp}$', r'$b_1$', r'$\\tau_{pp}$', r'$\\tau_{cc}$', \n",
    "               r'$\\theta_a$', r'$\\theta_p$', r'$\\chi$', r'$\\sigma_p$', r'$\\sigma_c$']\n",
    "\n",
    "# Set up the figure\n",
    "fig, axes = plt.subplots(len(param_names), len(param_names), figsize=(15, 15))\n",
    "plt.rcParams['font.family'] = 'Arial'\n",
    "\n",
    "for i in range(len(param_names)):\n",
    "    for j in range(len(param_names)):\n",
    "        ax = axes[i, j]\n",
    "        if i < j:\n",
    "            # Skip the upper triangle\n",
    "            ax.axis('off')\n",
    "        elif i == j:\n",
    "            # Plot histogram on the diagonal\n",
    "            sns.histplot(data[:, i].flatten(), bins=30, kde=False, color='#31688e', ax=ax, linewidth=0)\n",
    "            ax.set_title(param_names[i])\n",
    "            ax.set_ylabel('')\n",
    "        else:\n",
    "            # Plot scatter plot in the lower triangle\n",
    "            x_data = data[:, j].flatten()\n",
    "            y_data = data[:, i].flatten()\n",
    "            ax.scatter(x_data, y_data, color='#31688e', s=.01)\n",
    "            ax.set_xlabel('')\n",
    "            ax.set_ylabel('')\n",
    "\n",
    "        # Adjust tick labels for clarity\n",
    "        if i != len(param_names) - 1:\n",
    "            ax.set_xticklabels([])\n",
    "        if j != 0:\n",
    "            ax.set_yticklabels([])\n",
    "        if j > 0 and i != len(param_names) - 1:\n",
    "            ax.set_xlabel('')\n",
    "            ax.set_ylabel('')\n",
    "\n",
    "plt.tight_layout()\n",
    "plt.show()"
   ]
  }
 ],
 "metadata": {
  "kernelspec": {
   "display_name": "diamondenv",
   "language": "python",
   "name": "python3"
  },
  "language_info": {
   "codemirror_mode": {
    "name": "ipython",
    "version": 3
   },
   "file_extension": ".py",
   "mimetype": "text/x-python",
   "name": "python",
   "nbconvert_exporter": "python",
   "pygments_lexer": "ipython3",
   "version": "3.12.2"
  }
 },
 "nbformat": 4,
 "nbformat_minor": 2
}
